{
  "nbformat": 4,
  "nbformat_minor": 0,
  "metadata": {
    "colab": {
      "provenance": [],
      "authorship_tag": "ABX9TyM88f6fIueyQVRyF7bY0pY5",
      "include_colab_link": true
    },
    "kernelspec": {
      "name": "python3",
      "display_name": "Python 3"
    },
    "language_info": {
      "name": "python"
    }
  },
  "cells": [
    {
      "cell_type": "markdown",
      "metadata": {
        "id": "view-in-github",
        "colab_type": "text"
      },
      "source": [
        "<a href=\"https://colab.research.google.com/github/sathvikbandari/PYTHON/blob/main/tgnpdcl_billl.ipynb\" target=\"_parent\"><img src=\"https://colab.research.google.com/assets/colab-badge.svg\" alt=\"Open In Colab\"/></a>"
      ]
    },
    {
      "cell_type": "code",
      "execution_count": 38,
      "metadata": {
        "id": "n7Z6UPHxSSro"
      },
      "outputs": [],
      "source": [
        "def res(pu,cu):\n",
        "  u=cu-pu\n",
        "  ed=0.06*u\n",
        "  if(u<=100):\n",
        "    if(u<=50):\n",
        "      ec=1.95*u\n",
        "      fc=10\n",
        "      cc=40\n",
        "    else:\n",
        "      ec=3.1*u\n",
        "      fc=10\n",
        "      cc=70\n",
        "    if(u>100 and u<=200):\n",
        "     ec=100*3.4+(u-100)*4.8\n",
        "     fc=10\n",
        "     cc=90\n",
        "    if(u>200):\n",
        "      print(\"application not supported\")\n",
        "    if(u==0):\n",
        "      ec=50\n",
        "      fc=20\n",
        "      cc=40\n",
        "    bill_amount=ec+fc+cc+ed\n",
        "    return ec,fc,cc,ed,bill_amount\n"
      ]
    },
    {
      "cell_type": "code",
      "source": [
        "def com(pu,cu):\n",
        "  u=cu-pu\n",
        "  ed=0.06*u\n",
        "  if(u<=50):\n",
        "    ec=7*u\n",
        "    fc=60\n",
        "    cc=50\n",
        "  else:\n",
        "    print(\"application is nit support\")\n",
        "  if(u==0):\n",
        "    ec=65\n",
        "    fc=60\n",
        "    cc=50\n",
        "    bill_amount=ec+fc+cc+ed\n",
        "    return ec,fc,cc,ed,bill_amount\n",
        ""
      ],
      "metadata": {
        "id": "dJcbZR4_YFAC"
      },
      "execution_count": 39,
      "outputs": []
    },
    {
      "cell_type": "code",
      "source": [
        "def adv(pu,cu):\n",
        "  u=cu-pu\n",
        "  ed=0.06*u\n",
        "  ec=13*u\n",
        "  fc=70\n",
        "  cc=160\n",
        "  bill_amount=ec+fc+cc+ed\n",
        "  return ec,fc,cc,ed,bill_amount"
      ],
      "metadata": {
        "id": "Uze6U_N9fMbD"
      },
      "execution_count": 41,
      "outputs": []
    }
  ]
}