{
  "nbformat": 4,
  "nbformat_minor": 0,
  "metadata": {
    "colab": {
      "provenance": [],
      "authorship_tag": "ABX9TyNYFuD59pqiPvtPgBBvcuic",
      "include_colab_link": true
    },
    "kernelspec": {
      "name": "python3",
      "display_name": "Python 3"
    },
    "language_info": {
      "name": "python"
    }
  },
  "cells": [
    {
      "cell_type": "markdown",
      "metadata": {
        "id": "view-in-github",
        "colab_type": "text"
      },
      "source": [
        "<a href=\"https://colab.research.google.com/github/sathvikbandari/PYTHON/blob/main/transformer.ipynb\" target=\"_parent\"><img src=\"https://colab.research.google.com/assets/colab-badge.svg\" alt=\"Open In Colab\"/></a>"
      ]
    },
    {
      "cell_type": "code",
      "execution_count": 1,
      "metadata": {
        "id": "zl_yjlpbzK0L"
      },
      "outputs": [],
      "source": [
        "import math\n",
        "def oc(vo,io,wo):\n",
        " npf=wo/(vo*io)\n",
        " iw=io*npf\n",
        " imv=io*math.sqrt(1-npf**2)\n",
        " ro=vo/iw\n",
        " xo=vo/imv\n",
        " return ro,xo\n",
        "\n",
        "\n",
        "def sc(vsc,isc,wsc):\n",
        "  import math\n",
        "  rsc=wsc/(isc**2)\n",
        "  zsc=vsc/isc\n",
        "  xsc=math.sqrt(zsc**2-rsc**2)\n",
        "  return rsc,xsc\n",
        "\n",
        "\n",
        "\n",
        "def eff(r,wo,wsc,x,pf):\n",
        " effi=(x*r*pf*100)/(x*r*pf+wo+(x**2)*wsc)\n",
        " xcu=wsc*(x**2)\n",
        " return effi,xcu\n"
      ]
    }
  ]
}