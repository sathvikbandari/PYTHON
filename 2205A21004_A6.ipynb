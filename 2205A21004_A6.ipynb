{
  "nbformat": 4,
  "nbformat_minor": 0,
  "metadata": {
    "colab": {
      "provenance": [],
      "authorship_tag": "ABX9TyNzBX6fj0mm31VOlIdF7xkV",
      "include_colab_link": true
    },
    "kernelspec": {
      "name": "python3",
      "display_name": "Python 3"
    },
    "language_info": {
      "name": "python"
    }
  },
  "cells": [
    {
      "cell_type": "markdown",
      "metadata": {
        "id": "view-in-github",
        "colab_type": "text"
      },
      "source": [
        "<a href=\"https://colab.research.google.com/github/sathvikbandari/PYTHON/blob/main/2205A21004_A6.ipynb\" target=\"_parent\"><img src=\"https://colab.research.google.com/assets/colab-badge.svg\" alt=\"Open In Colab\"/></a>"
      ]
    },
    {
      "cell_type": "code",
      "execution_count": 8,
      "metadata": {
        "colab": {
          "base_uri": "https://localhost:8080/"
        },
        "id": "ml8A2AtEV1cg",
        "outputId": "918f7fc3-c53f-48ca-f9e6-14b887da9a3e"
      },
      "outputs": [
        {
          "output_type": "stream",
          "name": "stdout",
          "text": [
            "enter the value: 6\n",
            "++++++\n",
            "+++++\n",
            "++++\n",
            "+++\n",
            "++\n",
            "+\n"
          ]
        }
      ],
      "source": [
        "#For Loop\n",
        "n=int(input(\"enter the value: \"))\n",
        "for i in range(n,0,-1):\n",
        "  for j in range(i):\n",
        "    print(\"+\",end=\"\")\n",
        "  print()\n",
        "\n"
      ]
    },
    {
      "cell_type": "code",
      "source": [
        "#While Loop\n",
        "n=int(input(\"enter the value: \"))\n",
        "i=n\n",
        "while i>0:\n",
        "  j=0\n",
        "  while j<i:\n",
        "    print(\"+\",end=\"\")\n",
        "    j+=1\n",
        "  print()\n",
        "  i-=1\n",
        "\n",
        "\n"
      ],
      "metadata": {
        "colab": {
          "base_uri": "https://localhost:8080/"
        },
        "id": "g42VQUvWZcr8",
        "outputId": "415d3b6b-2878-4708-8069-2168d7d4d75d"
      },
      "execution_count": 9,
      "outputs": [
        {
          "output_type": "stream",
          "name": "stdout",
          "text": [
            "enter the value: 6\n",
            "++++++\n",
            "+++++\n",
            "++++\n",
            "+++\n",
            "++\n",
            "+\n"
          ]
        }
      ]
    },
    {
      "cell_type": "code",
      "source": [
        "n=int(input(\"enter the value: \"))\n",
        "for i in range(n):\n",
        "  for j in range(i+1):\n",
        "    print(\"*\",end=\"\")\n",
        "  print(\"\\n\")\n",
        "\n"
      ],
      "metadata": {
        "colab": {
          "base_uri": "https://localhost:8080/"
        },
        "id": "U1d1Y4NRZ6Fz",
        "outputId": "3fbe2004-7edf-4824-9fd9-9c665b6a91d7"
      },
      "execution_count": 10,
      "outputs": [
        {
          "output_type": "stream",
          "name": "stdout",
          "text": [
            "enter the value: 6\n",
            "*\n",
            "\n",
            "**\n",
            "\n",
            "***\n",
            "\n",
            "****\n",
            "\n",
            "*****\n",
            "\n",
            "******\n",
            "\n"
          ]
        }
      ]
    },
    {
      "cell_type": "code",
      "source": [
        "n=int(input(\"enter the value: \"))\n",
        "i=1\n",
        "while i<=n:\n",
        "  j=1\n",
        "  while j<=i:\n",
        "    print(\"*\",end=\"\")\n",
        "    j+=1\n",
        "  print()\n",
        "  i+=1"
      ],
      "metadata": {
        "colab": {
          "base_uri": "https://localhost:8080/"
        },
        "id": "NfLQ6KMNdLWT",
        "outputId": "e6ffea47-edd8-4152-c628-96ecdcded71a"
      },
      "execution_count": 15,
      "outputs": [
        {
          "output_type": "stream",
          "name": "stdout",
          "text": [
            "enter the value: 6\n",
            "*\n",
            "**\n",
            "***\n",
            "****\n",
            "*****\n",
            "******\n"
          ]
        }
      ]
    },
    {
      "cell_type": "code",
      "source": [
        "#Pattern 3\n",
        "#While Loop\n",
        "rows = int(input(\"Enter the value: \"))\n",
        "i = 1\n",
        "while i <= rows:\n",
        "    j = rows - i\n",
        "    while j > 0:\n",
        "        print(\" \", end=\"\")\n",
        "        j -= 1\n",
        "    k = i\n",
        "    while k > 0:\n",
        "        print(\"*\", end=\"\")\n",
        "        k -= 1\n",
        "    print()\n",
        "    i += 1\n"
      ],
      "metadata": {
        "colab": {
          "base_uri": "https://localhost:8080/"
        },
        "id": "aozhUbhmdwfy",
        "outputId": "adddc825-d731-4509-ae43-fc9599e6a788"
      },
      "execution_count": 17,
      "outputs": [
        {
          "output_type": "stream",
          "name": "stdout",
          "text": [
            "Enter the value: 6\n",
            "     *\n",
            "    **\n",
            "   ***\n",
            "  ****\n",
            " *****\n",
            "******\n"
          ]
        }
      ]
    },
    {
      "cell_type": "code",
      "source": [
        "#Pattern 3\n",
        "#For Loop\n",
        "rows = int(input(\"Enter the value: \"))\n",
        "for i in range(1, rows + 1):\n",
        "    for j in range(rows - i):\n",
        "        print(\" \", end=\"\")\n",
        "    for k in range(i):\n",
        "        print(\"*\", end=\"\")\n",
        "    print()\n"
      ],
      "metadata": {
        "colab": {
          "base_uri": "https://localhost:8080/"
        },
        "id": "dNUEZNN9gyIL",
        "outputId": "39ff692a-0b23-4030-c280-6d3037fe9649"
      },
      "execution_count": 16,
      "outputs": [
        {
          "output_type": "stream",
          "name": "stdout",
          "text": [
            "Enter the value: 6\n",
            "     *\n",
            "    **\n",
            "   ***\n",
            "  ****\n",
            " *****\n",
            "******\n"
          ]
        }
      ]
    },
    {
      "cell_type": "code",
      "source": [
        "# Inverted Triangle with Spaces using for loop\n",
        "n = 5\n",
        "\n",
        "for i in range(n):\n",
        "    # Print leading spaces\n",
        "    for j in range(i):\n",
        "        print(\" \", end=\"\")\n",
        "\n",
        "    # Print stars\n",
        "    for k in range(n - i):\n",
        "        print(\"+\", end=\"\")\n",
        "\n",
        "    # Move to the next line\n",
        "    print()"
      ],
      "metadata": {
        "colab": {
          "base_uri": "https://localhost:8080/"
        },
        "id": "vm6NduFahcRC",
        "outputId": "062dae4c-183d-47c0-cdb5-49ecce5809bf"
      },
      "execution_count": 19,
      "outputs": [
        {
          "output_type": "stream",
          "name": "stdout",
          "text": [
            "+++++\n",
            " ++++\n",
            "  +++\n",
            "   ++\n",
            "    +\n"
          ]
        }
      ]
    },
    {
      "cell_type": "code",
      "source": [
        "# Inverted Triangle with Spaces using while loop\n",
        "n = 5\n",
        "i = 0\n",
        "\n",
        "while i < n:\n",
        "    # Print leading spaces\n",
        "    j = 0\n",
        "    while j < i:\n",
        "        print(\" \", end=\"\")\n",
        "        j += 1\n",
        "\n",
        "    # Print stars\n",
        "    k = 0\n",
        "    while k < (n - i):\n",
        "        print(\"+\", end=\"\")\n",
        "        k += 1\n",
        "\n",
        "    # Move to the next line\n",
        "    print()\n",
        "    i += 1\n",
        "\n"
      ],
      "metadata": {
        "colab": {
          "base_uri": "https://localhost:8080/"
        },
        "id": "4Q1vnmQLherC",
        "outputId": "a523c8d7-cfa1-438f-bd74-99992932f5e9"
      },
      "execution_count": 20,
      "outputs": [
        {
          "output_type": "stream",
          "name": "stdout",
          "text": [
            "+++++\n",
            " ++++\n",
            "  +++\n",
            "   ++\n",
            "    +\n"
          ]
        }
      ]
    }
  ]
}