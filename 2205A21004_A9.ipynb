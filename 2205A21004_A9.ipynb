{
  "nbformat": 4,
  "nbformat_minor": 0,
  "metadata": {
    "colab": {
      "provenance": [],
      "authorship_tag": "ABX9TyMen4PWRLXm/eXHinXGaszu",
      "include_colab_link": true
    },
    "kernelspec": {
      "name": "python3",
      "display_name": "Python 3"
    },
    "language_info": {
      "name": "python"
    }
  },
  "cells": [
    {
      "cell_type": "markdown",
      "metadata": {
        "id": "view-in-github",
        "colab_type": "text"
      },
      "source": [
        "<a href=\"https://colab.research.google.com/github/sathvikbandari/PYTHON/blob/main/2205A21004_A9.ipynb\" target=\"_parent\"><img src=\"https://colab.research.google.com/assets/colab-badge.svg\" alt=\"Open In Colab\"/></a>"
      ]
    },
    {
      "cell_type": "code",
      "source": [
        "import numpy as np\n",
        "marks = np.array([[101, 35, 98, 43, 65, 78, 96],\n",
        "                 [102, 87, 45, 98, 65, 34, 78],\n",
        "                 [103, 45, 26, 78, 45, 67, 34],\n",
        "                 [104, 45, 56, 67, 78, 89, 90],\n",
        "                 [105, 23, 34, 45, 56, 76, 87]])\n",
        "\n",
        "roll_no = int(input(\"Enter Hall Ticket No.: \"))\n",
        "\n",
        "student_index = np.where(marks[:, 0] == roll_no)[0][0]\n",
        "\n",
        "student_marks = marks[student_index, 1:]\n",
        "\n",
        "if np.all(student_marks >= 35):\n",
        "    percentage = np.mean(student_marks)\n",
        "    print(\"=====================================\")\n",
        "    print(\"     KINDERLAND SCHOOL     \")\n",
        "    print(\"     Score Card    \")\n",
        "    print(\"=====================================\")\n",
        "    print(\"Roll No.:\", roll_no)\n",
        "    print(\"Telugu:\", student_marks[0])\n",
        "    print(\"English:\", student_marks[1])\n",
        "    print(\"Hindi:\", student_marks[2])\n",
        "    print(\"Maths:\", student_marks[3])\n",
        "    print(\"Science:\", student_marks[4])\n",
        "    print(\"Social:\", student_marks[5])\n",
        "    print(\"=====================================\")\n",
        "    print(\"Results Status\")\n",
        "    print(\"=====================================\")\n",
        "    print(\"Pass\")\n",
        "    print(\"Percentage of marks:\", percentage)\n",
        "    print(\"=====================================\")\n",
        "else:\n",
        "    print(\"=====================================\")\n",
        "    print(\"     KINDERLAND SCHOOL     \")\n",
        "    print(\"     Score Card      \")\n",
        "    print(\"=====================================\")\n",
        "    print(\"Roll No.:\", roll_no)\n",
        "    print(\"Telugu:\", student_marks[0])\n",
        "    print(\"English:\", student_marks[1])\n",
        "    print(\"Hindi:\", student_marks[2])\n",
        "    print(\"Maths:\", student_marks[3])\n",
        "    print(\"Science:\", student_marks[4])\n",
        "    print(\"Social:\", student_marks[5])\n",
        "    print(\"=====================================\")\n",
        "    print(\"Results Status\")\n",
        "    print(\"Fail\")\n",
        "    print(\"=====================================\")"
      ],
      "metadata": {
        "colab": {
          "base_uri": "https://localhost:8080/"
        },
        "id": "6ZQmnOB-xRHi",
        "outputId": "2d06edb9-c959-4676-e785-8677ee89533d"
      },
      "execution_count": 3,
      "outputs": [
        {
          "output_type": "stream",
          "name": "stdout",
          "text": [
            "Enter Hall Ticket No.: 101\n",
            "=====================================\n",
            "     KINDERLAND SCHOOL     \n",
            "     Score Card    \n",
            "=====================================\n",
            "Roll No.: 101\n",
            "Telugu: 35\n",
            "English: 98\n",
            "Hindi: 43\n",
            "Maths: 65\n",
            "Science: 78\n",
            "Social: 96\n",
            "=====================================\n",
            "Results Status\n",
            "=====================================\n",
            "Pass\n",
            "Percentage of marks: 69.16666666666667\n",
            "=====================================\n"
          ]
        }
      ]
    }
  ]
}