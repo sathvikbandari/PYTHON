{
  "nbformat": 4,
  "nbformat_minor": 0,
  "metadata": {
    "colab": {
      "provenance": [],
      "authorship_tag": "ABX9TyNTGjtM8k6TJYXcQrV0LSrI",
      "include_colab_link": true
    },
    "kernelspec": {
      "name": "python3",
      "display_name": "Python 3"
    },
    "language_info": {
      "name": "python"
    }
  },
  "cells": [
    {
      "cell_type": "markdown",
      "metadata": {
        "id": "view-in-github",
        "colab_type": "text"
      },
      "source": [
        "<a href=\"https://colab.research.google.com/github/sathvikbandari/PYTHON/blob/main/2205A21004_A7.ipynb\" target=\"_parent\"><img src=\"https://colab.research.google.com/assets/colab-badge.svg\" alt=\"Open In Colab\"/></a>"
      ]
    },
    {
      "cell_type": "code",
      "execution_count": 23,
      "metadata": {
        "colab": {
          "base_uri": "https://localhost:8080/"
        },
        "id": "4-ja32ZHa-gg",
        "outputId": "5f464136-1631-4d88-c067-2d3450bd6637"
      },
      "outputs": [
        {
          "output_type": "stream",
          "name": "stdout",
          "text": [
            "Enter receiving end voltage220000\n",
            "Enter resistance per phase per km0.15\n",
            "Enter length of transmission line40\n",
            "Enter inductance per phase per km0.0013263\n",
            "Enter power factor 0.8\n",
            "Enter apparent power381000000\n",
            "0:lagging 1:leading1\n",
            "Voltage regulation: 11.908716696181807\n",
            "Efficiency: 94.42520606740476\n"
          ]
        }
      ],
      "source": [
        "import math as mt\n",
        "vr=float(input(\"Enter receiving end voltage\"))\n",
        "r=float(input(\"Enter resistance per phase per km\"))\n",
        "length=float(input(\"Enter length of transmission line\"))\n",
        "l=float(input(\"Enter inductance per phase per km\"))\n",
        "pf=float(input(\"Enter power factor \"))\n",
        "load=float(input(\"Enter apparent power\"))\n",
        "type_pf=int(input(\"0:lagging 1:leading\"))\n",
        "vr_phase=vr/mt.sqrt(3)\n",
        "R=r*length\n",
        "L=l*length\n",
        "X=2*3.14*50*L\n",
        "Z=complex(R,X)\n",
        "P=load*pf\n",
        "Q=load*mt.sqrt(1-pf**2)\n",
        "if(type_pf==0):\n",
        "  S=complex(P,Q)\n",
        "else:\n",
        "  S=complex(P,Q)\n",
        "IR=(S.conjugate())/(3*vr_phase)\n",
        "VS=vr_phase+Z*IR\n",
        "voltage_regulation=(abs(VS)-vr_phase)*100/vr_phase\n",
        "print(\"Voltage regulation:\",voltage_regulation)\n",
        "Ssend=3*VS*IR.conjugate()\n",
        "Psend=Ssend.real\n",
        "eff=P*100/Psend\n",
        "print(\"Efficiency:\",eff)\n"
      ]
    }
  ]
}