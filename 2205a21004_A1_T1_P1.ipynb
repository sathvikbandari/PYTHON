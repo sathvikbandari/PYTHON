{
  "nbformat": 4,
  "nbformat_minor": 0,
  "metadata": {
    "colab": {
      "provenance": [],
      "authorship_tag": "ABX9TyN7fvhXKHDtIiw2isrGqYdn",
      "include_colab_link": true
    },
    "kernelspec": {
      "name": "python3",
      "display_name": "Python 3"
    },
    "language_info": {
      "name": "python"
    }
  },
  "cells": [
    {
      "cell_type": "markdown",
      "metadata": {
        "id": "view-in-github",
        "colab_type": "text"
      },
      "source": [
        "<a href=\"https://colab.research.google.com/github/sathvikbandari/PYTHON/blob/main/2205a21004_A1_T1_P1.ipynb\" target=\"_parent\"><img src=\"https://colab.research.google.com/assets/colab-badge.svg\" alt=\"Open In Colab\"/></a>"
      ]
    },
    {
      "cell_type": "code",
      "execution_count": 6,
      "metadata": {
        "colab": {
          "base_uri": "https://localhost:8080/"
        },
        "id": "k9VHgbGnczAZ",
        "outputId": "74911b76-8be3-41b5-b3e5-59297901a44e"
      },
      "outputs": [
        {
          "output_type": "stream",
          "name": "stdout",
          "text": [
            "enter the rating of the transformer in volt ampieres or watts:5000\n",
            "enter the coreloss of the transformer in watts:100\n",
            "enter the full load copper loss of the transformer in watts:800\n",
            "enter the power factor or loading of the transformer:1\n",
            "enter the load value inserted for the transformer:1\n",
            "rating of the transformer at k value of load is: 5000.0\n",
            " rating of the transformer of the transformer at k value of load is: 100.0\n",
            "The final efficiency of the transformer at k value of load is: 84.7457627118644\n",
            "loading of the transformer at k value of load is: 1.0\n",
            "copper loss of the transformer at k value of load is: 800.0\n",
            "The final max efficiency of the transformer at k value of load is: 0.3535533905932738\n"
          ]
        }
      ],
      "source": [
        "rating=float(input(\"enter the rating of the transformer in volt ampieres or watts:\"))\n",
        "coreloss=float(input(\"enter the coreloss of the transformer in watts:\"))\n",
        "fLcu_loss=float(input(\"enter the full load copper loss of the transformer in watts:\"))\n",
        "pf=float(input(\"enter the power factor or loading of the transformer:\"))\n",
        "k=float(input(\"enter the load value inserted for the transformer:\"))\n",
        "eff_transf=((k*rating*pf)/((k*rating*pf)+(k*k*fLcu_loss)+coreloss))*100\n",
        "Kcu_loss=(k*k*fLcu_loss)\n",
        "ratio=(coreloss/fLcu_loss)\n",
        "Kmax=pow(ratio,1/2)\n",
        "print(\"rating of the transformer at k value of load is:\",rating)\n",
        "print(\" rating of the transformer of the transformer at k value of load is:\",coreloss)\n",
        "print(\"The final efficiency of the transformer at k value of load is:\",eff_transf)\n",
        "print(\"loading of the transformer at k value of load is:\",pf)\n",
        "print(\"copper loss of the transformer at k value of load is:\",fLcu_loss)\n",
        "print(\"The final max efficiency of the transformer at k value of load is:\",Kmax)"
      ]
    }
  ]
}