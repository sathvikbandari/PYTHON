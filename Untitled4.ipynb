{
  "nbformat": 4,
  "nbformat_minor": 0,
  "metadata": {
    "colab": {
      "provenance": [],
      "authorship_tag": "ABX9TyNpXPD99lJ5F8nkNNdU3Mch",
      "include_colab_link": true
    },
    "kernelspec": {
      "name": "python3",
      "display_name": "Python 3"
    },
    "language_info": {
      "name": "python"
    }
  },
  "cells": [
    {
      "cell_type": "markdown",
      "metadata": {
        "id": "view-in-github",
        "colab_type": "text"
      },
      "source": [
        "<a href=\"https://colab.research.google.com/github/sathvikbandari/PYTHON/blob/main/Untitled4.ipynb\" target=\"_parent\"><img src=\"https://colab.research.google.com/assets/colab-badge.svg\" alt=\"Open In Colab\"/></a>"
      ]
    },
    {
      "cell_type": "code",
      "execution_count": 3,
      "metadata": {
        "colab": {
          "base_uri": "https://localhost:8080/"
        },
        "id": "OP5SDau9hxmm",
        "outputId": "409fdd4e-f6f4-405f-dd6a-388238532bb3"
      },
      "outputs": [
        {
          "output_type": "stream",
          "name": "stdout",
          "text": [
            "Enter previous units :7144\n",
            "Enter current units :7144\n",
            "Enter the value of TC:0\n",
            "=======================================\n",
            "TGNPDCL\n",
            "2024-09-10 10:59:58\n",
            "=======================================\n",
            "energy charges: 50\n",
            "fixed charges: 20\n",
            "customer charges: 40\n",
            "Electricity duty: 0.0\n",
            "total bill: 110.0\n"
          ]
        }
      ],
      "source": [
        "import tgnpdcl_billl\n",
        "import datetime\n",
        "now=datetime.datetime.now()\n",
        "formatted_now=now.strftime(\"%Y-%m-%d %H:%M:%S\")\n",
        "\n",
        "pu=float(input(\"Enter previous units :\"))\n",
        "cu=float(input(\"Enter current units :\"))\n",
        "TC=int(input(\"Enter the value of TC:\"))\n",
        "if(TC==0):\n",
        "  [ec,fc,cc,ed,bill_amount]=tgnpdcl_billl.res(pu,cu)\n",
        "else:\n",
        "  if(TC==1):\n",
        "    [ec,fc,cc,ed,bill_amount]=tgnpdcl_billl.com(pu,cu)\n",
        "  else:\n",
        "    if(TC==2):\n",
        "      [ec,fc,cc,ed,bill_amount]=tgnpdcl_billl.adv(pu,cu)\n",
        "print(\"=======================================\")\n",
        "print(\"TGNPDCL\")\n",
        "print(formatted_now)\n",
        "print(\"=======================================\")\n",
        "print(\"energy charges:\",ec)\n",
        "print(\"fixed charges:\",fc)\n",
        "print(\"customer charges:\",cc)\n",
        "print(\"Electricity duty:\",ed)\n",
        "print(\"total bill:\",bill_amount)"
      ]
    }
  ]
}