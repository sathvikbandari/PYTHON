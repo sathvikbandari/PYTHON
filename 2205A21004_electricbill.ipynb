{
  "nbformat": 4,
  "nbformat_minor": 0,
  "metadata": {
    "colab": {
      "provenance": [],
      "authorship_tag": "ABX9TyPYZ3yeivfoF5UokHRiLTs5",
      "include_colab_link": true
    },
    "kernelspec": {
      "name": "python3",
      "display_name": "Python 3"
    },
    "language_info": {
      "name": "python"
    }
  },
  "cells": [
    {
      "cell_type": "markdown",
      "metadata": {
        "id": "view-in-github",
        "colab_type": "text"
      },
      "source": [
        "<a href=\"https://colab.research.google.com/github/sathvikbandari/PYTHON/blob/main/2205A21004_electricbill.ipynb\" target=\"_parent\"><img src=\"https://colab.research.google.com/assets/colab-badge.svg\" alt=\"Open In Colab\"/></a>"
      ]
    },
    {
      "cell_type": "code",
      "execution_count": 16,
      "metadata": {
        "colab": {
          "base_uri": "https://localhost:8080/"
        },
        "id": "jWvh987tVF7Z",
        "outputId": "3063a4b7-fe36-4107-bf6e-2627f0cd02f2"
      },
      "outputs": [
        {
          "output_type": "stream",
          "name": "stdout",
          "text": [
            "Current date and time: 2024-09-03 10:45:57.186126\n",
            "Formatted date and time: 2024-09-03 10:45:57\n",
            "Enter the value of PU:7144\n",
            "Enter the value of CU:7183\n",
            "Enter the value of TU:0\n",
            "energy charges: 76.05\n",
            "fixed charges: 10\n",
            "coustomer charges: 40\n",
            "Electricity duty: 0.234\n",
            "total bill: 126.28399999999999\n"
          ]
        }
      ],
      "source": [
        "import datetime\n",
        "now = datetime.datetime.now()\n",
        "print(\"Current date and time:\", now)\n",
        "formatted_now = now.strftime(\"%Y-%m-%d %H:%M:%S\")\n",
        "print(\"Formatted date and time:\", formatted_now)\n",
        "PU=float(input(\"Enter the value of PU:\"))\n",
        "CU=float(input(\"Enter the value of CU:\"))\n",
        "TC=int(input(\"Enter the value of TU:\"))\n",
        "U=CU-PU\n",
        "ED=0.006*U\n",
        "if(TC==0):\n",
        "  if(U<=100):\n",
        "    if(U<=50):\n",
        "      EC=1.95*U\n",
        "      FC=10\n",
        "      CC=40\n",
        "    else:\n",
        "      EC=3.10*U\n",
        "      FC=10\n",
        "      CC=70\n",
        "  else:\n",
        "      if(U>100 and U>=200):\n",
        "       EC=100*3.4+(U-100)*4.8\n",
        "       FC=10\n",
        "       CC=90\n",
        "if(TC==1):\n",
        "     if(U<=50):\n",
        "        EC=7*U\n",
        "        FC=60\n",
        "        CC=50\n",
        "     else:\n",
        "      print(\"this application is not supported\")\n",
        "bill_amount=EC+FC+CC+ED\n",
        "print(\"energy charges:\",EC)\n",
        "print(\"fixed charges:\",FC)\n",
        "print(\"coustomer charges:\",CC)\n",
        "print(\"Electricity duty:\",ED)\n",
        "print(\"total bill:\",bill_amount)\n",
        "\n"
      ]
    }
  ]
}