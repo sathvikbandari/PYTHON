{
  "nbformat": 4,
  "nbformat_minor": 0,
  "metadata": {
    "colab": {
      "provenance": [],
      "authorship_tag": "ABX9TyPhJxcFgPC+geWiB8x1Jv0E",
      "include_colab_link": true
    },
    "kernelspec": {
      "name": "python3",
      "display_name": "Python 3"
    },
    "language_info": {
      "name": "python"
    }
  },
  "cells": [
    {
      "cell_type": "markdown",
      "metadata": {
        "id": "view-in-github",
        "colab_type": "text"
      },
      "source": [
        "<a href=\"https://colab.research.google.com/github/sathvikbandari/PYTHON/blob/main/2205a21004.ipynb\" target=\"_parent\"><img src=\"https://colab.research.google.com/assets/colab-badge.svg\" alt=\"Open In Colab\"/></a>"
      ]
    },
    {
      "cell_type": "code",
      "execution_count": 1,
      "metadata": {
        "colab": {
          "base_uri": "https://localhost:8080/"
        },
        "id": "b-PB7M0bz3K2",
        "outputId": "44cc4e0c-e37f-4450-d0ca-f8dd0354e26a"
      },
      "outputs": [
        {
          "output_type": "stream",
          "name": "stdout",
          "text": [
            "enter the open ckt test voltage in volts=220\n",
            "enter the open ckt test current in amps=2\n",
            "enter the open ckt test power in watts=250\n",
            "enter the short ckt test voltage in volts=75\n",
            "enter the short ckt test current in amps=10\n",
            "enter the short ckt test power in watts=500\n",
            "enter the transformer rating in voltampere=5000\n",
            "enter the power factor of the transformer=1\n",
            "enter the loading of the transformer=1\n",
            "efficiency= 86.95652173913044\n",
            "ro= 193.6\n",
            "xo= 133.67309875319802\n",
            "rsc= 5.0\n",
            "xsc= 5.5901699437494745\n",
            "xcu= 500.0\n"
          ]
        }
      ],
      "source": [
        "import transformer\n",
        "vo=float(input(\"enter the open ckt test voltage in volts=\"))\n",
        "io=float(input(\"enter the open ckt test current in amps=\"))\n",
        "wo=float(input(\"enter the open ckt test power in watts=\"))\n",
        "vsc=float(input(\"enter the short ckt test voltage in volts=\"))\n",
        "isc=float(input(\"enter the short ckt test current in amps=\"))\n",
        "wsc=float(input(\"enter the short ckt test power in watts=\"))\n",
        "r=float(input(\"enter the transformer rating in voltampere=\"))\n",
        "pf=float(input(\"enter the power factor of the transformer=\"))\n",
        "x=float(input(\"enter the loading of the transformer=\"))\n",
        "[ro,xo]=transformer.oc(vo,io,wo)\n",
        "[rsc,xsc]=transformer.sc(vsc,isc,wsc)\n",
        "[effi,xcu]=transformer.eff(r,wo,wsc,x,pf)\n",
        "print(\"efficiency=\",effi)\n",
        "print(\"ro=\",ro)\n",
        "print(\"xo=\",xo)\n",
        "print(\"rsc=\",rsc)\n",
        "print(\"xsc=\",xsc)\n",
        "print(\"xcu=\",xcu)\n"
      ]
    }
  ]
}